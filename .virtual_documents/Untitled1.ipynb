pip install --user -U nltk




